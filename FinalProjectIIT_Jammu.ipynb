{
  "cells": [
    {
      "cell_type": "code",
      "execution_count": 2,
      "metadata": {},
      "outputs": [],
      "source": [
        "import pandas as pd\n",
        "import numpy as np\n",
        "import seaborn as sns\n",
        "import matplotlib.pyplot as plt\n",
        "from sklearn.model_selection import train_test_split\n",
        "from sklearn.metrics import classification_report\n",
        "import re\n",
        "import string\n",
        "from sklearn.feature_extraction.text import TfidfVectorizer\n",
        "from sklearn.linear_model import LogisticRegression\n",
        "from sklearn.tree import DecisionTreeClassifier\n",
        "from sklearn.ensemble import GradientBoostingClassifier, RandomForestClassifier\n",
        "\n"
      ]
    },
    {
      "cell_type": "code",
      "execution_count": 3,
      "metadata": {},
      "outputs": [],
      "source": [
        "# Load datasets\n",
        "fake_news = pd.read_csv('Fake.csv')\n",
        "real_news = pd.read_csv('True.csv')\n",
        "\n",
        "# Label the data\n",
        "fake_news['class'] = 0\n",
        "real_news['class'] = 1\n",
        "\n",
        "# Keep last 10 rows separately for manual testing\n",
        "manual_fake = fake_news.tail(10)\n",
        "manual_real = real_news.tail(10)\n",
        "\n",
        "# Remove those last 10 rows from the main dataset\n",
        "fake_news = fake_news[:-10]\n",
        "real_news = real_news[:-10]\n",
        "\n",
        "# Combine the datasets\n",
        "combined_data = pd.concat([fake_news, real_news], ignore_index=True)\n",
        "\n",
        "# Drop unnecessary columns\n",
        "combined_data = combined_data.drop(['title', 'subject', 'date'], axis=1)\n",
        "\n"
      ]
    },
    {
      "cell_type": "code",
      "execution_count": null,
      "metadata": {},
      "outputs": [],
      "source": []
    },
    {
      "cell_type": "code",
      "execution_count": 4,
      "metadata": {},
      "outputs": [],
      "source": [
        "# Shuffle the dataset\n",
        "combined_data = combined_data.sample(frac=1, random_state=42).reset_index(drop=True)\n",
        "\n",
        "def clean_text(text):\n",
        "    text = text.lower()\n",
        "    text = re.sub(r'\\[.*?\\]', '', text)\n",
        "    text = re.sub(r'\\W', ' ', text)\n",
        "    text = re.sub(r'https?://\\S+|www\\.\\S+', '', text)\n",
        "    text = re.sub(r'<.*?>', '', text)\n",
        "    text = re.sub(r'[%s]' % re.escape(string.punctuation), '', text)\n",
        "    text = re.sub(r'\\n', '', text)\n",
        "    text = re.sub(r'\\w*\\d\\w*', '', text)\n",
        "    return text.strip()\n",
        "\n",
        "# Clean the text column\n",
        "combined_data['text'] = combined_data['text'].apply(clean_text)\n",
        "\n",
        "X = combined_data['text']\n",
        "y = combined_data['class']\n",
        "\n"
      ]
    },
    {
      "cell_type": "code",
      "execution_count": 5,
      "metadata": {},
      "outputs": [],
      "source": [
        "# Split into training and testing sets\n",
        "X_train, X_test, y_train, y_test = train_test_split(X, y, test_size=0.25, random_state=42)\n",
        "\n",
        "# Vectorize text using TF-IDF\n",
        "tfidf = TfidfVectorizer()\n",
        "X_train_vectors = tfidf.fit_transform(X_train)\n",
        "X_test_vectors = tfidf.transform(X_test)\n",
        "\n"
      ]
    },
    {
      "cell_type": "code",
      "execution_count": null,
      "metadata": {},
      "outputs": [],
      "source": [
        "# Initialize and train models\n",
        "log_reg = LogisticRegression()\n",
        "log_reg.fit(X_train_vectors, y_train)\n",
        "\n",
        "decision_tree = DecisionTreeClassifier()\n",
        "decision_tree.fit(X_train_vectors, y_train)\n",
        "\n",
        "grad_boost = GradientBoostingClassifier(random_state=42)\n",
        "grad_boost.fit(X_train_vectors, y_train)\n",
        "\n",
        "rand_forest = RandomForestClassifier(random_state=42)\n",
        "rand_forest.fit(X_train_vectors, y_train)\n",
        "\n"
      ]
    },
    {
      "cell_type": "code",
      "execution_count": null,
      "metadata": {},
      "outputs": [],
      "source": [
        "# Predict and display reports for each model\n",
        "models = {\n",
        "    \"Logistic Regression\": log_reg,\n",
        "    \"Decision Tree\": decision_tree,\n",
        "    \"Gradient Boosting\": grad_boost,\n",
        "    \"Random Forest\": rand_forest\n",
        "}\n",
        "\n",
        "for name, model in models.items():\n",
        "    predictions = model.predict(X_test_vectors)\n",
        "    print(f\"\\n{name} Classification Report:\\n\")\n",
        "    print(classification_report(y_test, predictions))\n",
        "\n",
        "\n",
        "def predict_news_label(label):\n",
        "    return \"Fake News\" if label == 0 else \"Not Fake News\"\n",
        "\n",
        "def test_custom_news(text):\n",
        "    cleaned_text = clean_text(text)\n",
        "    vector = tfidf.transform([cleaned_text])\n",
        "\n",
        "    predictions = {\n",
        "        \"Logistic Regression\": log_reg.predict(vector)[0],\n",
        "        \"Decision Tree\": decision_tree.predict(vector)[0],\n",
        "        \"Gradient Boosting\": grad_boost.predict(vector)[0],\n",
        "        \"Random Forest\": rand_forest.predict(vector)[0]\n",
        "    }\n",
        "\n",
        "    for model_name, pred in predictions.items():\n",
        "        print(f\"{model_name} Prediction: {predict_news_label(pred)}\")\n",
        "\n",
        "\n",
        "# Input from user\n",
        "user_input = input(\"Enter news text: \")\n",
        "test_custom_news(user_input)\n",
        "\n"
      ]
    },
    {
      "cell_type": "code",
      "execution_count": null,
      "metadata": {},
      "outputs": [],
      "source": []
    },
    {
      "cell_type": "code",
      "execution_count": null,
      "metadata": {},
      "outputs": [],
      "source": []
    },
    {
      "cell_type": "code",
      "execution_count": null,
      "metadata": {},
      "outputs": [],
      "source": []
    },
    {
      "cell_type": "code",
      "execution_count": null,
      "metadata": {},
      "outputs": [],
      "source": []
    },
    {
      "cell_type": "code",
      "execution_count": null,
      "metadata": {},
      "outputs": [],
      "source": []
    },
    {
      "cell_type": "code",
      "execution_count": null,
      "metadata": {},
      "outputs": [],
      "source": []
    },
    {
      "cell_type": "code",
      "execution_count": null,
      "metadata": {},
      "outputs": [],
      "source": []
    },
    {
      "cell_type": "code",
      "execution_count": null,
      "metadata": {},
      "outputs": [],
      "source": []
    }
  ],
  "metadata": {
    "anaconda-cloud": {},
    "kernelspec": {
      "display_name": "base",
      "language": "python",
      "name": "python3"
    },
    "language_info": {
      "codemirror_mode": {
        "name": "ipython",
        "version": 3
      },
      "file_extension": ".py",
      "mimetype": "text/x-python",
      "name": "python",
      "nbconvert_exporter": "python",
      "pygments_lexer": "ipython3",
      "version": "3.12.7"
    }
  },
  "nbformat": 4,
  "nbformat_minor": 4
}
